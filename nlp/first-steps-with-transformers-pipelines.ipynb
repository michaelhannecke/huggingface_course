{
 "cells": [
  {
   "cell_type": "markdown",
   "metadata": {},
   "source": [
    "## First Steps with HF tranformer pipelines\n",
    "\n",
    "Installation tips: \n",
    "- Either pytorch or tensorflow need to bee installed. (for pytorch : %pip install torch torchvision)\n",
    "- Numpy must be in a version < 2! ( %pip uninstall numpy;  %pip install 'numpy<2')\n",
    "- IProgress and ipywidgets must be installed ( %pip install ipywidgets )"
   ]
  },
  {
   "cell_type": "code",
   "execution_count": 7,
   "metadata": {},
   "outputs": [],
   "source": [
    "from transformers import pipeline\n",
    "import numpy as np"
   ]
  },
  {
   "cell_type": "code",
   "execution_count": null,
   "metadata": {},
   "outputs": [],
   "source": [
    "SentimentClassifier = pipeline(\"sentiment-analysis\")\n",
    "SentimentClassifier(\"I've been waiting for HuhhingFace course my whole life.\")"
   ]
  },
  {
   "cell_type": "code",
   "execution_count": null,
   "metadata": {},
   "outputs": [],
   "source": [
    "# even more sentences are possible, put the sentences in brackets\n",
    "SentimentClassifier([\"I've been wating for this for a long time\", \"I do not like sugar\"])"
   ]
  },
  {
   "cell_type": "markdown",
   "metadata": {},
   "source": [
    "## Zero Shot Classification"
   ]
  },
  {
   "cell_type": "markdown",
   "metadata": {},
   "source": []
  },
  {
   "cell_type": "code",
   "execution_count": null,
   "metadata": {},
   "outputs": [],
   "source": [
    "classifier = pipeline(\"zero-shot-classification\")\n",
    "classifier(\n",
    "    \"This is a course about thr transformers library\",\n",
    "    candidate_labels=[\"education\", \"politics\", \"business\"],\n",
    ")"
   ]
  },
  {
   "cell_type": "markdown",
   "metadata": {},
   "source": [
    "## Text Generation"
   ]
  },
  {
   "cell_type": "code",
   "execution_count": null,
   "metadata": {},
   "outputs": [],
   "source": [
    "generator = pipeline(\"text-generation\")\n",
    "generator(\"In this course you will be teached to\")"
   ]
  },
  {
   "cell_type": "code",
   "execution_count": null,
   "metadata": {},
   "outputs": [],
   "source": [
    "# with the parameters num_return_sequences and max_length you can controll the length of th generated text\n",
    "generator(\n",
    "    \"In this course you will be teached to\",\n",
    "    max_length = 50, # max 15 words per sentence\n",
    "    num_return_sequences = 2, # two sentences\n",
    "    )"
   ]
  },
  {
   "cell_type": "code",
   "execution_count": null,
   "metadata": {},
   "outputs": [],
   "source": [
    "# ou can use any model from the Hub\n",
    "generator = pipeline(\"text-generation\", model=\"distilgpt2\")\n",
    "\n",
    "generator(\n",
    "    \"In this course you will be teached to\",\n",
    "    max_length = 50, # max 15 words per sentence\n",
    "    num_return_sequences = 2, # two sentences\n",
    "    )"
   ]
  },
  {
   "cell_type": "markdown",
   "metadata": {},
   "source": [
    "## Mask Filling"
   ]
  },
  {
   "cell_type": "code",
   "execution_count": null,
   "metadata": {},
   "outputs": [],
   "source": [
    "# from transformers import pipeline\n",
    "unmasker = pipeline(\"fill-mask\")\n",
    "\n",
    "unmasker(\"This course will teach you all about <mask> models.\", top_k=4)"
   ]
  },
  {
   "cell_type": "markdown",
   "metadata": {},
   "source": [
    "## Named Entity Recognition"
   ]
  },
  {
   "cell_type": "code",
   "execution_count": null,
   "metadata": {},
   "outputs": [],
   "source": [
    "ner = pipeline(\"ner\", grouped_entities = True)\n",
    "\n",
    "ner(\"My name is Michael and I work at bluetuple.ai in Germany\")"
   ]
  },
  {
   "cell_type": "markdown",
   "metadata": {},
   "source": [
    "## Question Answering"
   ]
  },
  {
   "cell_type": "code",
   "execution_count": null,
   "metadata": {},
   "outputs": [],
   "source": [
    "q_and_a  = pipeline(\"question-answering\")\n",
    "\n",
    "q_and_a(\n",
    "    question=\"Where do I work?\",\n",
    "    context = \"My Name is Michael and I wirk for bluetuple.ai in Krefeld\",\n",
    ")"
   ]
  },
  {
   "cell_type": "markdown",
   "metadata": {},
   "source": [
    "## Summarization"
   ]
  },
  {
   "cell_type": "code",
   "execution_count": null,
   "metadata": {},
   "outputs": [],
   "source": [
    "summarizer = pipeline(\"summarization\")\n",
    "\n",
    "summarizer(\n",
    "    \"\"\"\n",
    "    The Lord of the Rings is an epic high fantasy novel written by English author and scholar J. R. R. Tolkien. \n",
    "    Set in Middle-earth, the story began as a sequel to Tolkien's 1937 children's book The Hobbit \n",
    "    but eventually developed into a much larger work. Written in stages between 1937 and 1949, \n",
    "    The Lord of the Rings is one of the best-selling books ever written, with over 150 million copies sold.\n",
    "    The title refers to the story's main antagonist, the Dark Lord Sauron, who in an earlier age created the One Ring,\n",
    "    allowing him to rule the other Rings of Power given to men, dwarves, and elves, in his campaign\n",
    "    to conquer all of Middle-earth. From homely beginnings in the Shire, a hobbit land reminiscent of the English\n",
    "    countryside, the story ranges across Middle-earth, following the quest to destroy the One Ring, seen mainly \n",
    "    through the eyes of the hobbits Frodo, Sam, Merry, and Pippin. Aiding the hobbits are the wizard Gandalf, \n",
    "    the men Aragorn and Boromir, the elf Legolas, and the dwarf Gimli, who unite as the Company of the Ring\n",
    "    in order to rally the Free Peoples of Middle-earth against Sauron's armies and give Frodo a chance to destroy\n",
    "    the One Ring in the fires of Mount Doom.\n",
    "    \"\"\"\n",
    "    )"
   ]
  },
  {
   "cell_type": "markdown",
   "metadata": {},
   "source": [
    "## Translation"
   ]
  },
  {
   "cell_type": "code",
   "execution_count": null,
   "metadata": {},
   "outputs": [],
   "source": [
    "translator = pipeline(\"translation\", model=\"Helsinki-NLP/opus-mt-fr-en\")\n",
    "\n",
    "translator(\"ce cours est produit par Hugging Face.\")"
   ]
  },
  {
   "cell_type": "code",
   "execution_count": null,
   "metadata": {},
   "outputs": [],
   "source": [
    "from transformers import pipeline\n",
    "\n",
    "ner = pipeline(\"ner\", grouped_entities=True)\n",
    "ner(\"My name is Sylvain and I work at Hugging Face in Brooklyn.\")"
   ]
  }
 ],
 "metadata": {
  "kernelspec": {
   "display_name": ".venv",
   "language": "python",
   "name": "python3"
  },
  "language_info": {
   "codemirror_mode": {
    "name": "ipython",
    "version": 3
   },
   "file_extension": ".py",
   "mimetype": "text/x-python",
   "name": "python",
   "nbconvert_exporter": "python",
   "pygments_lexer": "ipython3",
   "version": "3.11.11"
  }
 },
 "nbformat": 4,
 "nbformat_minor": 2
}
